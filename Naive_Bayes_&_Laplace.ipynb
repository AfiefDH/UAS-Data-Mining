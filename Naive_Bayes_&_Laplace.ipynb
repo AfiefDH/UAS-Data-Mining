{
  "nbformat": 4,
  "nbformat_minor": 0,
  "metadata": {
    "colab": {
      "provenance": []
    },
    "kernelspec": {
      "name": "python3",
      "display_name": "Python 3"
    },
    "language_info": {
      "name": "python"
    }
  },
  "cells": [
    {
      "cell_type": "code",
      "execution_count": 6,
      "metadata": {
        "colab": {
          "base_uri": "https://localhost:8080/"
        },
        "id": "QsykiljPZ4_6",
        "outputId": "f4ae12f3-c4b3-48c6-e1e6-c816d20d546a"
      },
      "outputs": [
        {
          "output_type": "stream",
          "name": "stdout",
          "text": [
            "   Demam Muntah Pusing Nyeri Otot     DB\n",
            "0     Ya     Ya  Tidak         Ya     Ya\n",
            "1     Ya     Ya     Ya      Tidak     Ya\n",
            "2     Ya  Tidak  Tidak      Tidak  Tidak\n",
            "3  Tidak     Ya     Ya      Tidak  Tidak\n",
            "4  Tidak  Tidak  Tidak      Tidak  Tidak\n"
          ]
        }
      ],
      "source": [
        "import pandas as pd\n",
        "\n",
        "# Data Pelatihan\n",
        "data = {\n",
        "    'Demam': ['Ya', 'Ya', 'Ya', 'Tidak', 'Tidak'],\n",
        "    'Muntah': ['Ya', 'Ya', 'Tidak', 'Ya', 'Tidak'],\n",
        "    'Pusing': ['Tidak', 'Ya', 'Tidak', 'Ya', 'Tidak'],\n",
        "    'Nyeri Otot': ['Ya', 'Tidak', 'Tidak', 'Tidak', 'Tidak'],\n",
        "    'DB': ['Ya', 'Ya', 'Tidak', 'Tidak', 'Tidak']\n",
        "}\n",
        "\n",
        "df = pd.DataFrame(data)\n",
        "print(df.head())"
      ]
    },
    {
      "cell_type": "code",
      "source": [
        "# Hitung Prior Probabilities\n",
        "P_COVID_Ya = len(df[df['DB'] == 'Ya']) / len(df)\n",
        "P_COVID_Tidak = len(df[df['DB'] == 'Tidak']) / len(df)\n"
      ],
      "metadata": {
        "id": "3sqoGXZ4a49l"
      },
      "execution_count": 7,
      "outputs": []
    },
    {
      "cell_type": "code",
      "source": [
        "# Laplace smoothing parameter\n",
        "alpha = 1\n",
        "\n",
        "# Hitung Conditional Probabilities dengan Laplace smoothing\n",
        "def calculate_probabilities(feature, value, target, target_value):\n",
        "    subset = df[df[target] == target_value]\n",
        "    count_value = len(subset[subset[feature] == value])\n",
        "    total_count = len(subset)\n",
        "    # Jumlah kategori dalam fitur\n",
        "    num_categories = len(df[feature].unique())\n",
        "    probability = (count_value + alpha) / (total_count + alpha * num_categories)\n",
        "    return probability"
      ],
      "metadata": {
        "id": "BP6Hh69LbAnI"
      },
      "execution_count": 8,
      "outputs": []
    },
    {
      "cell_type": "code",
      "source": [
        "# Fungsi untuk prediksi berdasarkan input gejala\n",
        "def predict(demam, batuk, pusing, radang_tenggorokan):\n",
        "    P_Demam_Ya_given_COVID_Ya = calculate_probabilities('Demam', demam, 'DB', 'Ya')\n",
        "    P_Demam_Ya_given_COVID_Tidak = calculate_probabilities('Demam', demam, 'DB', 'Tidak')\n",
        "\n",
        "    P_Batuk_Ya_given_COVID_Ya = calculate_probabilities('Muntah', batuk, 'DB', 'Ya')\n",
        "    P_Batuk_Ya_given_COVID_Tidak = calculate_probabilities('Muntah', batuk, 'DB', 'Tidak')\n",
        "\n",
        "    P_Pusing_Ya_given_COVID_Ya = calculate_probabilities('Pusing', pusing, 'DB', 'Ya')\n",
        "    P_Pusing_Ya_given_COVID_Tidak = calculate_probabilities('Pusing', pusing, 'DB', 'Tidak')\n",
        "\n",
        "    P_NyeriOtot_Ya_given_COVID_Ya = calculate_probabilities('Nyeri Otot', radang_tenggorokan, 'DB', 'Ya')\n",
        "    P_NyeriOtot_Ya_given_COVID_Tidak = calculate_probabilities('Nyeri Otot', radang_tenggorokan, 'DB', 'Tidak')\n",
        "\n",
        "    P_COVID_Ya_given_input = (P_Demam_Ya_given_COVID_Ya * P_Batuk_Ya_given_COVID_Ya * P_Pusing_Ya_given_COVID_Ya * P_NyeriOtot_Ya_given_COVID_Ya * P_COVID_Ya)\n",
        "    P_COVID_Tidak_given_input = (P_Demam_Ya_given_COVID_Tidak * P_Batuk_Ya_given_COVID_Tidak * P_Pusing_Ya_given_COVID_Tidak * P_NyeriOtot_Ya_given_COVID_Tidak * P_COVID_Tidak)\n",
        "\n",
        "    if P_COVID_Ya_given_input > P_COVID_Tidak_given_input:\n",
        "        return \"Prediksi: DB = Ya\"\n",
        "    else:\n",
        "        return \"Prediksi: DB = Tidak\""
      ],
      "metadata": {
        "id": "HyaS333va0zX"
      },
      "execution_count": 9,
      "outputs": []
    },
    {
      "cell_type": "code",
      "source": [
        "# Input gejala sendiri\n",
        "demam = input(\"Apakah pasien demam? (Ya/Tidak): \")\n",
        "batuk = input(\"Apakah pasien batuk? (Ya/Tidak): \")\n",
        "pusing = input(\"Apakah pasien pusing? (Ya/Tidak): \")\n",
        "nyeri_otot = input(\"Apakah pasien Nyeri Otot? (Ya/Tidak): \")\n",
        "\n",
        "# Prediksi\n",
        "print(predict(demam, batuk, pusing, nyeri_otot))"
      ],
      "metadata": {
        "colab": {
          "base_uri": "https://localhost:8080/"
        },
        "id": "w4gVgZNYbGEL",
        "outputId": "6c180464-0f11-4d60-b5c5-144bc1278d92"
      },
      "execution_count": 10,
      "outputs": [
        {
          "output_type": "stream",
          "name": "stdout",
          "text": [
            "Apakah pasien demam? (Ya/Tidak): Ya\n",
            "Apakah pasien batuk? (Ya/Tidak): Ya\n",
            "Apakah pasien pusing? (Ya/Tidak): Tidak\n",
            "Apakah pasien Nyeri Otot? (Ya/Tidak): Ya\n",
            "Prediksi: DB = Ya\n"
          ]
        }
      ]
    }
  ]
}